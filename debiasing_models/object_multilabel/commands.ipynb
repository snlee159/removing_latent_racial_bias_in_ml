{
 "cells": [
  {
   "cell_type": "markdown",
   "metadata": {},
   "source": [
    "## Origin model and other baselines"
   ]
  },
  {
   "cell_type": "markdown",
   "metadata": {},
   "source": [
    "### Training:\n",
    "\n",
    "CUDA_VISIBLE_DEVICES=1 python train.py --save_dir origin_0 --log_dir origin_0 --batch_size 32 --num_epochs 60 --learning_rate 0.0001\n",
    "\n",
    "CUDA_VISIBLE_DEVICES=1 python train.py --save_dir origin_0 --log_dir origin_0 --batch_size 32 --num_epochs 60 --learning_rate 0.00001 --finetune  --resume\n",
    "\n",
    "CUDA_VISIBLE_DEVICES=1 python train.py --save_dir ratio_2 --log_dir ratio_2 --balanced --ratio 2 --batch_size 32 --num_epochs 30 --learning_rate 0.0001\n",
    "\n",
    "CUDA_VISIBLE_DEVICES=2 python train.py --save_dir blur_0 --log_dir blur_0 --batch_size 32 --num_epochs 30 --learning_rate 0.0001 --blur\n",
    "\n",
    "CUDA_VISIBLE_DEVICES=2 python train.py --save_dir blur_0 --log_dir blur_0 --batch_size 32 --num_epochs 60 --learning_rate 0.000005 --blur --finetune --resume\n",
    "\n",
    "CUDA_VISIBLE_DEVICES=2 python train.py --save_dir blackout_face_0 --log_dir blackout_face_0 --batch_size 32 --num_epochs 60 --learning_rate 0.0001 --blackout_face\n",
    "\n",
    "\n",
    "### Attacker\n",
    "CUDA_VISIBLE_DEVICES=1 python attacker.py --exp_id origin_0 --num_rounds 5 --num_epochs 100 --learning_rate 0.00005 --batch_size 128\n",
    "\n",
    "CUDA_VISIBLE_DEVICES=4 python attacker.py --exp_id ratio_3 --num_rounds 5 --num_epochs 100 --learning_rate 0.00005 --balanced --ratio 3 --batch_size 128\n",
    "\n",
    "CUDA_VISIBLE_DEVICES=5 python attacker.py --exp_id ratio_2 --num_rounds 5 --num_epochs 100 --learning_rate 0.00005 --balanced --ratio 2 --batch_size 128\n",
    "\n",
    "CUDA_VISIBLE_DEVICES=2 python attacker.py --exp_id ratio_1 --num_rounds 5 --num_epochs 100 --learning_rate 0.00005 --balanced --ratio 1 --batch_size 128\n",
    "\n",
    "CUDA_VISIBLE_DEVICES=3 python attacker.py --exp_id blur_0 --num_rounds 5 --num_epochs 100 --learning_rate 0.00005 --batch_size 128 --blur\n",
    "\n",
    "CUDA_VISIBLE_DEVICES=4 python attacker.py --exp_id blackout_0 --num_rounds 5 --num_epochs 100 --learning_rate 0.00005 --batch_size 128 --blackout\n",
    "\n",
    "CUDA_VISIBLE_DEVICES=6 python attacker.py --exp_id blackout_box_0 --num_rounds 5 --num_epochs 100 --learning_rate 0.00005 --batch_size 128 --blackout_box\n",
    "\n",
    "CUDA_VISIBLE_DEVICES=5 python attacker.py --exp_id blackout_face_0 --num_rounds 5 --num_epochs 100 --learning_rate 0.00005 --batch_size 128 --blackout_face\n",
    "\n",
    "\n",
    "### Dataset leakage\n",
    "CUDA_VISIBLE_DEVICES=2 python dataset_leakage.py --num_epochs 100 --learning_rate 0.00005 --batch_size 128 --num_rounds 5 --balanced --ratio 1 --no_image\n",
    "\n",
    "CUDA_VISIBLE_DEVICES=3 python dataset_leakage.py --num_epochs 100 --learning_rate 0.00005 --batch_size 128 --num_rounds 5 --balanced --ratio 2 --no_image\n",
    "\n",
    "CUDA_VISIBLE_DEVICES=4 python dataset_leakage.py --num_epochs 100 --learning_rate 0.00005 --batch_size 128 --num_rounds 5 --balanced --ratio 3 --no_image\n",
    "\n",
    "CUDA_VISIBLE_DEVICES=5 python dataset_leakage.py --num_epochs 100 --learning_rate 0.00005 --batch_size 128 --num_rounds 5 --no_image\n",
    "\n",
    "\n",
    "### Natural Leakge\n",
    "CUDA_VISIBLE_DEVICES=5 python natural_leakage.py --num_rounds 5 --num_epochs 100 --learning_rate 0.00005 --batch_size 128 --no_image\n",
    "\n",
    "### Random baseline:\n",
    "\n",
    "CUDA_VISIBLE_DEVICES=3 python attacker.py --exp_id origin_0 --num_rounds 5 --num_epochs 100 --learning_rate 0.00005 --batch_size 128 --noise --noise_scale 0.2"
   ]
  },
  {
   "cell_type": "markdown",
   "metadata": {},
   "source": [
    "\n",
    "## Adv without autoencoder:"
   ]
  },
  {
   "cell_type": "markdown",
   "metadata": {},
   "source": [
    "### Training:\n",
    "\n",
    "CUDA_VISIBLE_DEVICES=3 python train.py --save_dir 0_linear --log_dir 0_linear --layer conv5 --no_avgpool --adv_capacity 300 --adv_lambda 2.0 --dropout 0.2 --batch_size 32 --num_epochs 120 --batch_balanced --resume --finetune --adv_on --learning_rate 0.000005\n",
    "\n",
    "CUDA_VISIBLE_DEVICES=4 python train.py --save_dir 0_linear --log_dir 0_linear --layer conv4 --no_avgpool --adv_capacity 300 --adv_lambda 2.0 --dropout 0.2 --batch_size 32 --num_epochs 100 --batch_balanced --resume --finetune --adv_on --learning_rate 0.000005\n",
    "\n",
    "\n",
    "---------------------------------------------------------------------------------------------------------------\n",
    "### Attacker\n",
    "\n",
    "CUDA_VISIBLE_DEVICES=2 python attacker.py --exp_id conv5_300_2.0_0.2_0_linear --layer conv5 --no_avgpool --adv_capacity 300 --adv_lambda 2.0 --dropout 0.2 --num_rounds 5 --num_epochs 100 --learning_rate 0.00005 --batch_size 128\n",
    "\n",
    "\n",
    "CUDA_VISIBLE_DEVICES=2 python attacker.py --exp_id conv4_300_2.0_0.2_0_linear --layer conv4 --no_avgpool --adv_capacity 300 --adv_lambda 2.0 --dropout 0.2 --num_rounds 5 --num_epochs 100 --learning_rate 0.00005 --batch_size 128"
   ]
  },
  {
   "cell_type": "markdown",
   "metadata": {},
   "source": [
    "## Adv with autoencoder"
   ]
  },
  {
   "cell_type": "markdown",
   "metadata": {},
   "source": [
    "### Training:\n",
    "\n",
    "CUDA_VISIBLE_DEVICES=3 python ae_adv_train.py --save_dir 6 --log_dir 6 --layer generated_image --adv_lambda 5.0 --batch_size 16 --beta 0.1 --batch_balanced --num_epochs 80 --learning_rate 0.00001 --autoencoder_finetune --adv_on --resume\n",
    "\n",
    "\n",
    "CUDA_VISIBLE_DEVICES=3 python ae_adv_train.py --save_dir 6_75 --log_dir 6_75 --layer generated_image --adv_lambda 5.0 --batch_size 16 --beta 0.1 --batch_balanced --num_epochs 160 --learning_rate 0.00001 --resume --finetune --checkpoint checkpoint_75.pth.tar\n",
    "\n",
    "### Attacker\n",
    "\n",
    "CUDA_VISIBLE_DEVICES=4 python ae_adv_attacker.py --exp_id generated_image_5.0_0.1_6_75 --adv_on --layer generated_image --adv_capacity 300 --adv_lambda 5 --learning_rate 0.00005 --num_epochs 100 --batch_size 128 --best_model"
   ]
  },
  {
   "cell_type": "code",
   "execution_count": null,
   "metadata": {},
   "outputs": [],
   "source": []
  }
 ],
 "metadata": {
  "kernelspec": {
   "display_name": "Python 3",
   "language": "python",
   "name": "python3"
  },
  "language_info": {
   "codemirror_mode": {
    "name": "ipython",
    "version": 3
   },
   "file_extension": ".py",
   "mimetype": "text/x-python",
   "name": "python",
   "nbconvert_exporter": "python",
   "pygments_lexer": "ipython3",
   "version": "3.7.3"
  }
 },
 "nbformat": 4,
 "nbformat_minor": 2
}
