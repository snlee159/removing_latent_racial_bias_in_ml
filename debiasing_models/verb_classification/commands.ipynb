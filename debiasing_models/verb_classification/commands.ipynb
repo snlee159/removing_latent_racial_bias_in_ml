{
 "cells": [
  {
   "cell_type": "markdown",
   "metadata": {},
   "source": [
    "## imSitu regular models"
   ]
  },
  {
   "cell_type": "markdown",
   "metadata": {},
   "source": [
    "### Training\n",
    "\n",
    "CUDA_VISIBLE_DEVICES=3 python train.py --save_dir origin_0 --log_dir origin_0 --batch_size 32 --num_epochs 15 --learning_rate 0.0001\n",
    "\n",
    "\n",
    "CUDA_VISIBLE_DEVICES=6 python train.py --save_dir ratio_1 --log_dir ratio_1 --batch_size 32 --num_epochs 15 --learning_rate 0.0001 --balanced --ratio 1\n",
    "\n",
    "\n",
    "CUDA_VISIBLE_DEVICES=2 python train.py --save_dir blackout_box_0 --log_dir blackout_box_0 --batch_size 32 --num_epochs 15 --learning_rate 0.0001 --blackout_box\n",
    "\n",
    "\n",
    "\n",
    "### Attacker\n",
    "CUDA_VISIBLE_DEVICES=3 python attacker.py --exp_id origin_0 --num_rounds 5 --num_epochs 100 --learning_rate 0.00005 --batch_size 128\n",
    "\n",
    "CUDA_VISIBLE_DEVICES=4 python attacker.py --exp_id ratio_1 --num_rounds 5 --num_epochs 100 --learning_rate 0.00005 --balanced --ratio 1 --batch_size 128\n",
    "\n",
    "CUDA_VISIBLE_DEVICES=1 python attacker.py --exp_id blackout_box_0 --num_rounds 5 --num_epochs 100 --learning_rate 0.00005 --batch_size 128 --blackout_box\n",
    "\n",
    "\n",
    "### Dataset leakage\n",
    "CUDA_VISIBLE_DEVICES=0 python dataset_leakage.py --num_epochs 50 --learning_rate 0.00005 --batch_size 128 --num_rounds 5 --balanced --ratio 1\n",
    "\n",
    "\n",
    "CUDA_VISIBLE_DEVICES=3 python dataset_leakage.py --num_epochs 100 --learning_rate 0.00005 --batch_size 128 --num_rounds 5\n",
    "\n",
    "\n",
    "### Natural leakage\n",
    "CUDA_VISIBLE_DEVICES=5 python natural_leakage.py --num_rounds 5 --num_epochs 100 --learning_rate 0.00005 --batch_size 128\n",
    "\n",
    "\n",
    "\n",
    "### Random baseline:\n",
    "CUDA_VISIBLE_DEVICES=3 python attacker.py --exp_id origin_5 --num_rounds 5 --num_epochs 100 --learning_rate 0.00005 --batch_size 128 --noise --noise_scale 0.2\n"
   ]
  },
  {
   "cell_type": "markdown",
   "metadata": {},
   "source": [
    "## imSitu adv models"
   ]
  },
  {
   "cell_type": "markdown",
   "metadata": {},
   "source": [
    "### Attacker\n",
    "\n",
    "CUDA_VISIBLE_DEVICES=2 python adv_attacker.py --exp_id conv4_300_1.0_0.2_imSitu_linear_0 --adv_on --layer conv4 --no_avgpool --adv_capacity 300 --adv_lambda 1 --learning_rate 0.00005 --num_epochs 100 --batch_size 128\n",
    "\n",
    "CUDA_VISIBLE_DEVICES=2 python adv_attacker.py --exp_id conv5_300_1.0_0.2_imSitu_linear_0 --adv_on --layer conv5 --no_avgpool --adv_capacity 300 --adv_lambda 1 --learning_rate 0.00005 --num_epochs 100 --batch_size 128"
   ]
  },
  {
   "cell_type": "markdown",
   "metadata": {},
   "source": [
    "## imSitu adv+autoencoder"
   ]
  },
  {
   "cell_type": "markdown",
   "metadata": {},
   "source": [
    "### Attacker\n",
    "CUDA_VISIBLE_DEVICES=3 python ae_adv_attacker.py --exp_id generated_image_10.0_1.0_0 --adv_on --layer generated_image --adv_capacity 300 --adv_lambda 1 --learning_rate 0.00005 --num_epochs 100 --batch_size 128\n"
   ]
  }
 ],
 "metadata": {
  "kernelspec": {
   "display_name": "Python 3",
   "language": "python",
   "name": "python3"
  },
  "language_info": {
   "codemirror_mode": {
    "name": "ipython",
    "version": 3
   },
   "file_extension": ".py",
   "mimetype": "text/x-python",
   "name": "python",
   "nbconvert_exporter": "python",
   "pygments_lexer": "ipython3",
   "version": "3.7.3"
  }
 },
 "nbformat": 4,
 "nbformat_minor": 2
}
